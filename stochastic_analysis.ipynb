{
 "cells": [
  {
   "cell_type": "code",
   "execution_count": 11,
   "metadata": {},
   "outputs": [],
   "source": [
    "import random"
   ]
  },
  {
   "cell_type": "code",
   "execution_count": 14,
   "metadata": {},
   "outputs": [],
   "source": [
    "def genrate_random_prisoners_number():\n",
    "    arr=[]\n",
    "    while (len(arr))<101:\n",
    "        num=random.randint(1,100)\n",
    "        if num not in arr:\n",
    "            arr.append(num)\n",
    "        \n",
    "    return arr\n",
    "        \n",
    "    "
   ]
  },
  {
   "cell_type": "code",
   "execution_count": 15,
   "metadata": {},
   "outputs": [],
   "source": [
    "def strategy(prisoners):\n",
    "    \n",
    "    for i in range(1,101):\n",
    "        curr=prisoners[i]\n",
    "        opend=1\n",
    "        while opend < 50 :\n",
    "            curr=prisoners[curr]\n",
    "            opend+=1\n",
    "\n",
    "            if i == curr :\n",
    "                return True \n",
    "        \n",
    "    return False"
   ]
  },
  {
   "cell_type": "code",
   "execution_count": null,
   "metadata": {},
   "outputs": [],
   "source": [
    "count_escaped=0\n",
    "trials=10000\n",
    "for _ in range(trials):\n",
    "    prisoners=genrate_random_prisoners_number()\n",
    "    escaped=strategy(prisoners)\n",
    "    \n",
    "    if escaped:\n",
    "        count_escaped+=1\n",
    "        \n",
    "print(count_escaped*100)/trials\n",
    "    \n",
    "    \n",
    "    \n",
    "        "
   ]
  }
 ],
 "metadata": {
  "kernelspec": {
   "display_name": "base",
   "language": "python",
   "name": "python3"
  },
  "language_info": {
   "codemirror_mode": {
    "name": "ipython",
    "version": 3
   },
   "file_extension": ".py",
   "mimetype": "text/x-python",
   "name": "python",
   "nbconvert_exporter": "python",
   "pygments_lexer": "ipython3",
   "version": "3.12.7"
  }
 },
 "nbformat": 4,
 "nbformat_minor": 2
}
